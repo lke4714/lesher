{
  "nbformat": 4,
  "nbformat_minor": 0,
  "metadata": {
    "colab": {
      "name": "Untitled0.ipynb",
      "provenance": [],
      "authorship_tag": "ABX9TyMcNJtXx/o3dSL47wt9QGg6",
      "include_colab_link": true
    },
    "kernelspec": {
      "name": "python3",
      "display_name": "Python 3"
    }
  },
  "cells": [
    {
      "cell_type": "markdown",
      "metadata": {
        "id": "view-in-github",
        "colab_type": "text"
      },
      "source": [
        "<a href=\"https://colab.research.google.com/github/lke4714/lesher/blob/master/1%EC%A3%BC%EC%B0%A8%20%EA%B3%BC%EC%A0%9C.ipynb\" target=\"_parent\"><img src=\"https://colab.research.google.com/assets/colab-badge.svg\" alt=\"Open In Colab\"/></a>"
      ]
    },
    {
      "cell_type": "markdown",
      "metadata": {
        "id": "_7mUEGZWyFFH",
        "colab_type": "text"
      },
      "source": [
        "#<**1주차 과제**>\n",
        "##언어 음성 이미지 자율주행 분야별 적용된 인공지능 서비스\n",
        "--------------------------------------------------------\n",
        "1.언어\n",
        "* 구글의 언어 번역기 [구글](https://translate.google.co.kr/?hl=ko&tab=wT)\n",
        "\n",
        "--------------------------------------------------------\n",
        "2.음성\n",
        "* 음성 인식을 통한 노래 제목 찾기 [웹페이지](https://www.acrcloud.com/identify-songs-music-recognition-online/)\n",
        "\n",
        "-----------\n",
        "3.자율주행\n",
        "* 비행기의 자동항법 장치와 자동차의 자율주행 [뉴스](https://www.motorgraph.com/news/articleView.html?idxno=24498)\n",
        "\n",
        "-------\n",
        "\n",
        "4.이미지\n",
        "* 구글의 이미지 검색 [구글](https://www.google.co.kr/imghp?hl=ko&tab=wi&ogbl)\n"
      ]
    }
  ]
}